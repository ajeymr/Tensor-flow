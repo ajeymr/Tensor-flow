{
 "cells": [
  {
   "cell_type": "code",
   "execution_count": 1,
   "metadata": {},
   "outputs": [],
   "source": [
    "import tensorflow as tf"
   ]
  },
  {
   "cell_type": "code",
   "execution_count": 2,
   "metadata": {},
   "outputs": [
    {
     "name": "stdout",
     "output_type": "stream",
     "text": [
      "Your Tensorflow Version is :2.4.1\n"
     ]
    }
   ],
   "source": [
    "print(('Your Tensorflow Version is :{0}').format(tf.__version__))"
   ]
  },
  {
   "cell_type": "code",
   "execution_count": 3,
   "metadata": {},
   "outputs": [
    {
     "data": {
      "text/plain": [
       "<tf.Tensor: shape=(2, 2), dtype=int32, numpy=\n",
       "array([[4, 3],\n",
       "       [5, 2]])>"
      ]
     },
     "execution_count": 3,
     "metadata": {},
     "output_type": "execute_result"
    }
   ],
   "source": [
    "A = tf.constant([[4,3],\n",
    "                [5,2]])\n",
    "A"
   ]
  },
  {
   "cell_type": "code",
   "execution_count": 4,
   "metadata": {},
   "outputs": [
    {
     "data": {
      "text/plain": [
       "<tf.Variable 'Variable:0' shape=(2, 2) dtype=int32, numpy=\n",
       "array([[4, 2],\n",
       "       [7, 6]])>"
      ]
     },
     "execution_count": 4,
     "metadata": {},
     "output_type": "execute_result"
    }
   ],
   "source": [
    "B = tf.Variable([[4,2],\n",
    "                [7,6]])\n",
    "B"
   ]
  },
  {
   "cell_type": "code",
   "execution_count": 7,
   "metadata": {},
   "outputs": [
    {
     "data": {
      "text/plain": [
       "<tf.Tensor: shape=(2, 4), dtype=int32, numpy=\n",
       "array([[4, 3, 4, 2],\n",
       "       [5, 2, 7, 6]])>"
      ]
     },
     "execution_count": 7,
     "metadata": {},
     "output_type": "execute_result"
    }
   ],
   "source": [
    "AB_concat = tf.concat(values = [A,B], axis = 1)\n",
    "AB_concat"
   ]
  },
  {
   "cell_type": "code",
   "execution_count": 8,
   "metadata": {},
   "outputs": [
    {
     "data": {
      "text/plain": [
       "<tf.Tensor: shape=(4, 2), dtype=int32, numpy=\n",
       "array([[4, 3],\n",
       "       [5, 2],\n",
       "       [4, 2],\n",
       "       [7, 6]])>"
      ]
     },
     "execution_count": 8,
     "metadata": {},
     "output_type": "execute_result"
    }
   ],
   "source": [
    "AB_concat = tf.concat(values = [A,B], axis = 0)\n",
    "AB_concat"
   ]
  },
  {
   "cell_type": "code",
   "execution_count": 9,
   "metadata": {},
   "outputs": [
    {
     "data": {
      "text/plain": [
       "TensorShape([4, 2])"
      ]
     },
     "execution_count": 9,
     "metadata": {},
     "output_type": "execute_result"
    }
   ],
   "source": [
    "AB_concat.shape"
   ]
  },
  {
   "cell_type": "code",
   "execution_count": 10,
   "metadata": {},
   "outputs": [
    {
     "data": {
      "text/plain": [
       "<tf.Tensor: shape=(4, 2), dtype=int32, numpy=\n",
       "array([[0, 0],\n",
       "       [0, 0],\n",
       "       [0, 0],\n",
       "       [0, 0]])>"
      ]
     },
     "execution_count": 10,
     "metadata": {},
     "output_type": "execute_result"
    }
   ],
   "source": [
    "tensor = tf.zeros(shape = [4,2], dtype = tf.int32)\n",
    "tensor"
   ]
  },
  {
   "cell_type": "code",
   "execution_count": 11,
   "metadata": {},
   "outputs": [
    {
     "data": {
      "text/plain": [
       "<tf.Tensor: shape=(4, 2), dtype=int32, numpy=\n",
       "array([[1, 1],\n",
       "       [1, 1],\n",
       "       [1, 1],\n",
       "       [1, 1]])>"
      ]
     },
     "execution_count": 11,
     "metadata": {},
     "output_type": "execute_result"
    }
   ],
   "source": [
    "tensor = tf.ones(shape = [4,2], dtype = tf.int32)\n",
    "tensor"
   ]
  },
  {
   "cell_type": "code",
   "execution_count": 12,
   "metadata": {},
   "outputs": [
    {
     "data": {
      "text/plain": [
       "<tf.Tensor: shape=(2, 4), dtype=int32, numpy=\n",
       "array([[1, 1, 1, 1],\n",
       "       [1, 1, 1, 1]])>"
      ]
     },
     "execution_count": 12,
     "metadata": {},
     "output_type": "execute_result"
    }
   ],
   "source": [
    "reshaped_tensor = tf.reshape(tensor = tensor, shape = [2,4])\n",
    "reshaped_tensor"
   ]
  },
  {
   "cell_type": "code",
   "execution_count": 16,
   "metadata": {},
   "outputs": [
    {
     "data": {
      "text/plain": [
       "<tf.Tensor: shape=(5, 6), dtype=float64, numpy=\n",
       "array([[0.34072409, 0.51940979, 0.28614986, 0.13324012, 0.84932203,\n",
       "        0.32456495],\n",
       "       [0.69073019, 0.44752743, 0.17160485, 0.55241498, 0.0762606 ,\n",
       "        0.28915878],\n",
       "       [0.5264542 , 0.26936675, 0.17947219, 0.66082255, 0.51300983,\n",
       "        0.05240028],\n",
       "       [0.61895748, 0.02245581, 0.2996648 , 0.71044416, 0.96202818,\n",
       "        0.99501446],\n",
       "       [0.77268654, 0.26760521, 0.7201981 , 0.24475299, 0.71138876,\n",
       "        0.39010053]])>"
      ]
     },
     "execution_count": 16,
     "metadata": {},
     "output_type": "execute_result"
    }
   ],
   "source": [
    "tensor = tf.random.uniform(shape = [5,6], dtype = tf.float64)\n",
    "tensor"
   ]
  },
  {
   "cell_type": "code",
   "execution_count": 23,
   "metadata": {},
   "outputs": [
    {
     "data": {
      "text/plain": [
       "<tf.Tensor: shape=(5, 5), dtype=float32, numpy=\n",
       "array([[0.9370887 , 0.8800471 , 0.87674105, 0.32422388, 0.3518362 ],\n",
       "       [0.37475193, 0.7484342 , 0.247599  , 0.79082215, 0.28252006],\n",
       "       [0.23409307, 0.8604803 , 0.49516022, 0.5334588 , 0.7703538 ],\n",
       "       [0.72397625, 0.35714233, 0.77143526, 0.38261485, 0.89356744],\n",
       "       [0.24373269, 0.702615  , 0.16390061, 0.27639258, 0.6595081 ]],\n",
       "      dtype=float32)>"
      ]
     },
     "execution_count": 23,
     "metadata": {},
     "output_type": "execute_result"
    }
   ],
   "source": [
    "tensor = tf.random.uniform(shape = [5,5], dtype = tf.float32)\n",
    "tensor"
   ]
  },
  {
   "cell_type": "code",
   "execution_count": 18,
   "metadata": {},
   "outputs": [
    {
     "data": {
      "text/plain": [
       "<tf.Tensor: shape=(5, 6), dtype=int32, numpy=\n",
       "array([[0, 0, 0, 0, 0, 0],\n",
       "       [0, 0, 0, 0, 0, 0],\n",
       "       [0, 0, 0, 0, 0, 0],\n",
       "       [0, 0, 0, 0, 0, 0],\n",
       "       [0, 0, 0, 0, 0, 0]])>"
      ]
     },
     "execution_count": 18,
     "metadata": {},
     "output_type": "execute_result"
    }
   ],
   "source": [
    "tensor_asint = tf.cast(tensor, tf.int32)\n",
    "tensor_asint"
   ]
  },
  {
   "cell_type": "code",
   "execution_count": 20,
   "metadata": {},
   "outputs": [
    {
     "data": {
      "text/plain": [
       "<tf.Tensor: shape=(6, 5), dtype=float32, numpy=\n",
       "array([[0.46070898, 0.93165827, 0.8306925 , 0.15150571, 0.00699091],\n",
       "       [0.6855955 , 0.60940063, 0.43156075, 0.979674  , 0.38047945],\n",
       "       [0.9970561 , 0.09483528, 0.23331714, 0.7989595 , 0.98147845],\n",
       "       [0.11534226, 0.27450335, 0.6367023 , 0.8972391 , 0.35915005],\n",
       "       [0.99459255, 0.23044252, 0.99762356, 0.88243544, 0.91379774],\n",
       "       [0.10477972, 0.43060994, 0.3131827 , 0.30128086, 0.17313814]],\n",
       "      dtype=float32)>"
      ]
     },
     "execution_count": 20,
     "metadata": {},
     "output_type": "execute_result"
    }
   ],
   "source": [
    "transpose = tf.transpose(tensor)\n",
    "transpose"
   ]
  },
  {
   "cell_type": "code",
   "execution_count": 24,
   "metadata": {},
   "outputs": [
    {
     "data": {
      "text/plain": [
       "<tf.Tensor: shape=(5, 5), dtype=float32, numpy=\n",
       "array([[0.63364875, 0.10495603, 0.9031348 , 0.87386394, 0.9423748 ],\n",
       "       [0.27820027, 0.22487628, 0.3222077 , 0.22739935, 0.94409347],\n",
       "       [0.7903383 , 0.09008527, 0.85869145, 0.36891115, 0.3167472 ],\n",
       "       [0.7122048 , 0.44841135, 0.80397546, 0.5552558 , 0.4300059 ],\n",
       "       [0.38607347, 0.06194663, 0.7276566 , 0.3057505 , 0.7987819 ]],\n",
       "      dtype=float32)>"
      ]
     },
     "execution_count": 24,
     "metadata": {},
     "output_type": "execute_result"
    }
   ],
   "source": [
    "tensor2 = tf.random.uniform(shape = [5,5], dtype = tf.float32)\n",
    "tensor2"
   ]
  },
  {
   "cell_type": "code",
   "execution_count": 25,
   "metadata": {},
   "outputs": [
    {
     "data": {
      "text/plain": [
       "<tf.Tensor: shape=(5, 5), dtype=float32, numpy=\n",
       "array([[1.8982849 , 0.54241705, 2.3994095 , 1.630051  , 2.4120996 ],\n",
       "       [1.3136635 , 0.6020574 , 1.6335931 , 1.1145068 , 1.703905  ],\n",
       "       [1.4564078 , 0.5496076 , 1.9033017 , 1.1146505 , 2.034553  ],\n",
       "       [1.7852814 , 0.4527158 , 2.3891702 , 1.4841197 , 2.1420748 ],\n",
       "       [0.9309122 , 0.36313957, 1.2893598 , 0.78834164, 1.5905905 ]],\n",
       "      dtype=float32)>"
      ]
     },
     "execution_count": 25,
     "metadata": {},
     "output_type": "execute_result"
    }
   ],
   "source": [
    "multiplication = tf.matmul(tensor, tensor2)\n",
    "multiplication"
   ]
  },
  {
   "cell_type": "code",
   "execution_count": 28,
   "metadata": {},
   "outputs": [
    {
     "data": {
      "text/plain": [
       "<tf.Tensor: shape=(3, 3), dtype=int32, numpy=\n",
       "array([[1, 0, 0],\n",
       "       [0, 1, 0],\n",
       "       [0, 0, 1]])>"
      ]
     },
     "execution_count": 28,
     "metadata": {},
     "output_type": "execute_result"
    }
   ],
   "source": [
    "identity_matrix  = tf.eye(num_rows = 3, num_columns = 3, dtype = tf.int32)\n",
    "identity_matrix"
   ]
  },
  {
   "cell_type": "code",
   "execution_count": null,
   "metadata": {},
   "outputs": [],
   "source": []
  }
 ],
 "metadata": {
  "kernelspec": {
   "display_name": "Python 3",
   "language": "python",
   "name": "python3"
  },
  "language_info": {
   "codemirror_mode": {
    "name": "ipython",
    "version": 3
   },
   "file_extension": ".py",
   "mimetype": "text/x-python",
   "name": "python",
   "nbconvert_exporter": "python",
   "pygments_lexer": "ipython3",
   "version": "3.8.5"
  }
 },
 "nbformat": 4,
 "nbformat_minor": 4
}
